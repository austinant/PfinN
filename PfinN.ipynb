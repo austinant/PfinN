{
 "cells": [
  {
   "cell_type": "markdown",
   "metadata": {},
   "source": [
    "This notebook contains functions for investigating the natural power monoid, PN = P_{fin,0}(\\NN).\n",
    "Created by: Austin Antoniou\n",
    "\n",
    "References:\n",
    "\n",
    "[1] https://docs.python.org/3/library/itertools.html\n",
    "\n",
    "[2] http://jeromekelleher.net/generating-integer-partitions.html"
   ]
  },
  {
   "cell_type": "code",
   "execution_count": 15,
   "metadata": {},
   "outputs": [],
   "source": [
    "#packages needed\n",
    "import itertools as it\n",
    "from time import time\n",
    "from numba import njit\n",
    "import math as math"
   ]
  },
  {
   "cell_type": "code",
   "execution_count": 2,
   "metadata": {},
   "outputs": [],
   "source": [
    "#Functions for subsets\n",
    "\n",
    "def powerset(X): #returns generator of all subsets of X.  Code borrowed from [1]\n",
    "    s = list(X)\n",
    "    return it.chain.from_iterable(map(set,it.combinations(s, r)) for r in range(len(s)+1))\n",
    "\n",
    "def npowerset(X): #returns generator of all nonempty subsets of X.\n",
    "    s = list(X)\n",
    "    return it.chain.from_iterable(map(set,it.combinations(s, r)) for r in range(1,len(s)+1))\n",
    "\n",
    "def subsets_cont(X,Y): #returns subsets of X containing Y\n",
    "    X0 = X - Y\n",
    "    for S in powerset(X0):\n",
    "        yield S.union(Y)\n",
    "\n",
    "def nonunits(X): #returns subsets of X containing 0 and some other element\n",
    "    for S in npowerset(X-{0}):\n",
    "        yield S.union({0})\n",
    "\n",
    "def interval_subsets(n): #returns generator of subsets of [0,n] containing the endpoints\n",
    "    for S in powerset(set(range(1,n))):\n",
    "        yield S.union({0,n})\n",
    "\n",
    "def is_subset(X,Y): #decides whether X is a subset of Y\n",
    "    for x in X:\n",
    "        if not x in Y:\n",
    "            return False\n",
    "    return True"
   ]
  },
  {
   "cell_type": "code",
   "execution_count": 3,
   "metadata": {},
   "outputs": [],
   "source": [
    "#Functions for setwise sums\n",
    "\n",
    "def setsum(X,Y): #returns X+Y={x+y: (x,y) in (X,Y)}\n",
    "    return set(x+y for x in X for y in Y)\n",
    "\n",
    "def msum(*listofsets): #n-ary version of setsum\n",
    "    S = listofsets[0]\n",
    "    if len(listofsets) == 1:\n",
    "        return S\n",
    "    else:\n",
    "        for i in range(1,len(listofsets)):\n",
    "            S = setsum(S,listofsets[i])\n",
    "        return S\n",
    "\n",
    "def translate(X,c): #translates X by c\n",
    "    return set(x+c for x in X)\n",
    "\n",
    "def dilate(X,k): #dilates X by k\n",
    "    return set(k*x for x in X)\n",
    "\n",
    "def subsums(X): #returns set of subsums of a multiset or tuple X\n",
    "    S = {0}\n",
    "    for x in X:\n",
    "        S = setsum(S,{0,x})\n",
    "    return S"
   ]
  },
  {
   "cell_type": "code",
   "execution_count": 4,
   "metadata": {},
   "outputs": [],
   "source": [
    "#Functions for testing sumset decompositions involving a given factor\n",
    "\n",
    "def cofactor(X,A): #returns the largest possible B with X = A + B\n",
    "    B = X\n",
    "    for a in A:\n",
    "        B = B & translate(X,-a)\n",
    "    return B\n",
    "\n",
    "#TODO def vitals(X,A): returns set of b contained in any B such that X = A+B\n",
    "\n",
    "#TODO def cofactors(X,A): returns generator of all B with X = A+B\n",
    "\n",
    "def divides(X,A): #decides whether A divides X\n",
    "    return (X == setsum(A,cofactor(X,A)))"
   ]
  },
  {
   "cell_type": "code",
   "execution_count": 5,
   "metadata": {},
   "outputs": [],
   "source": [
    "#Functions for testing irreducibility and finding atoms\n",
    "\n",
    "atom_ref_path = 'atoms/atoms_max'\n",
    "\n",
    "def is_atom(X): #decides whether X is an atom by testing divisibility by all its subsets\n",
    "    for Y in nonunits(X-{max(X)}):\n",
    "        if divides(X,Y):\n",
    "            return False\n",
    "    return True\n",
    "\n",
    "def atoms_in(X): #returns generator of atoms which are subsets of X\n",
    "    for Y in nonunits(X):\n",
    "        if is_atom(Y):\n",
    "            yield Y\n",
    "            \n",
    "def atoms_dividing(X):\n",
    "    for A in atoms_in(X):\n",
    "        if divides(X,A):\n",
    "            yield A\n",
    "\n",
    "def record_atoms(n): #records a list of the atoms with max n\n",
    "    file = open(atom_ref_path+str(n),'w')\n",
    "    for S in interval_subsets(n):\n",
    "        if is_atom(S):\n",
    "            file.write(str(S)+'\\n')\n",
    "    file.close()\n",
    "\n",
    "def atom_ref(n): #opens the file containing line-by-line strings of the atoms with max n\n",
    "    return open(atom_ref_path+str(n),'r')\n",
    "\n",
    "def atom_gen(n):\n",
    "    for a in atom_ref(n):\n",
    "        yield tuple(sorted(eval(a)))\n",
    "\n",
    "def atoms_in_gen(n,X):\n",
    "    for a in atom_gen(n):\n",
    "        if is_subset(a,X):\n",
    "            yield a"
   ]
  },
  {
   "cell_type": "code",
   "execution_count": 6,
   "metadata": {},
   "outputs": [],
   "source": [
    "###Now that we've recorded atoms up to a given max, we can use this to check irreducibility of subsets\n",
    "#Functions for checking irreducibility/finding atoms by referencing our lists of atoms\n",
    "\n",
    "def is_atom_ref(X):\n",
    "    for m in range(1,int(max(X)/2+1)):\n",
    "        for a in atom_gen(m):\n",
    "            if divides(X,a):\n",
    "                return False\n",
    "        file.close()\n",
    "    return True\n",
    "\n",
    "def atoms_in_ref(X):\n",
    "    for S in nonunits(X):\n",
    "        if is_atom_ref(S):\n",
    "            yield S\n",
    "\n",
    "def rec_atoms_ref(n):\n",
    "    file = open(atom_ref_path+str(n),'w')\n",
    "    for S in interval_subsets(n):\n",
    "        if is_atom_ref(S):\n",
    "            file.write(str(S)+'\\n')\n",
    "    file.close()"
   ]
  },
  {
   "cell_type": "code",
   "execution_count": 7,
   "metadata": {},
   "outputs": [],
   "source": [
    "#Functions involving partitions\n",
    "\n",
    "def partitions1(n): #integer partitions of n, code borrowed from [2] above\n",
    "    a = [0 for i in range(n + 1)]\n",
    "    k = 1\n",
    "    y = n - 1\n",
    "    while k != 0:\n",
    "        x = a[k - 1] + 1\n",
    "        k -= 1\n",
    "        while 2 * x <= y:\n",
    "            a[k] = x\n",
    "            y -= x\n",
    "            k += 1\n",
    "        l = k + 1\n",
    "        while x <= y:\n",
    "            a[k] = x\n",
    "            a[l] = y\n",
    "            yield tuple(sorted(a[:k + 2],reverse=True))\n",
    "            x += 1\n",
    "            y -= 1\n",
    "        a[k] = x + y\n",
    "        y = x + y - 1\n",
    "        yield tuple(sorted(a[:k + 1],reverse=True))\n",
    "\n",
    "def partitions(n): #returns list of partitions of n, sorted by max\n",
    "    return sorted([tuple(sorted(p,reverse=True)) for p in partitions1(n)],reverse=True)\n",
    "\n",
    "def parts(n,k): #returns list of partitions of n into exactly k parts, sorted by max\n",
    "    return [P for P in partitions(n) if len(P)==k]"
   ]
  },
  {
   "cell_type": "code",
   "execution_count": 8,
   "metadata": {},
   "outputs": [],
   "source": [
    "#Functions for finding factorizations, using partition type\n",
    "\n",
    "def facs_of_type(X,p): #returns all factorizations of X of p-type p\n",
    "    F = set()\n",
    "    atom_classes = []\n",
    "    for m in p:\n",
    "        atom_classes.append(atoms_in_gen(m,X))\n",
    "    atom_tuples = it.product(*atom_classes)\n",
    "    for aa in atom_tuples:\n",
    "        if msum(*aa) == X:\n",
    "            F.add(aa)\n",
    "    return set(tuple(sorted(f,reverse=True)) for f in F)\n",
    "\n",
    "\n",
    "def feasible_types(X): #returns generator with partitions which could occur as types of S\n",
    "    for p in partitions1(max(X)):\n",
    "        if is_subset(subsums(p),X):\n",
    "            yield p\n",
    "\n",
    "def facs_by_type(X): #returns a list of factorizations of X, assembled according to feasible p-types\n",
    "    F = set()\n",
    "    for p in feasible_types(X):\n",
    "        F = F.union(facs_of_type(X,p))\n",
    "    return F\n",
    "\n",
    "def facs_by_force(X): #returns the set of factorizations of X into atoms, not using partition types of X\n",
    "    if is_atom(X):\n",
    "        return {(tuple(sorted(X)),)}\n",
    "    facs = set()\n",
    "    for A in atoms_dividing(X):\n",
    "        for B in nonunits(cofactor(X,A)):\n",
    "            if setsum(A,B) == X:\n",
    "                for f in facs_by_force(B):\n",
    "                    facs.add(tuple(sorted(\n",
    "                        (tuple(sorted(A)),)+f)))\n",
    "    return facs\n",
    "\n",
    "def lengths(X):\n",
    "    return set(len(f) for f in facs_by_type(X))"
   ]
  },
  {
   "cell_type": "code",
   "execution_count": null,
   "metadata": {},
   "outputs": [],
   "source": [
    "#The cells below have some 'experiments' from various questions I was pondering.  "
   ]
  },
  {
   "cell_type": "code",
   "execution_count": null,
   "metadata": {},
   "outputs": [],
   "source": []
  },
  {
   "cell_type": "code",
   "execution_count": null,
   "metadata": {},
   "outputs": [],
   "source": []
  },
  {
   "cell_type": "code",
   "execution_count": null,
   "metadata": {},
   "outputs": [],
   "source": []
  },
  {
   "cell_type": "code",
   "execution_count": null,
   "metadata": {},
   "outputs": [],
   "source": []
  },
  {
   "cell_type": "code",
   "execution_count": 46,
   "metadata": {},
   "outputs": [
    {
     "name": "stdout",
     "output_type": "stream",
     "text": [
      "{2, 3, 4, 5, 6, 7}\n",
      "{2, 3, 4, 5}\n",
      "{2, 3, 4, 5}\n",
      "{2, 3, 4, 5}\n",
      "{2, 3, 4, 5}\n",
      "{2, 3, 4, 5, 6}\n",
      "{2, 3, 4, 5, 6, 7}\n",
      "{2, 3, 4, 5, 6, 7}\n",
      "{2, 3, 4, 5, 6}\n"
     ]
    }
   ],
   "source": [
    "n = 15\n",
    "Y = set(range(n+1))\n",
    "for m in range(1,10):\n",
    "    print(set(len(f) for f in facs_by_type(Y-{m})))"
   ]
  },
  {
   "cell_type": "code",
   "execution_count": 44,
   "metadata": {},
   "outputs": [
    {
     "data": {
      "text/plain": [
       "(70, 69)"
      ]
     },
     "execution_count": 44,
     "metadata": {},
     "output_type": "execute_result"
    }
   ],
   "source": [
    "X = set(range(20))-{6}\n",
    "Y = set(range(51))-{15}\n",
    "Z = setsum(X,Y)\n",
    "len(Z),max(Z)"
   ]
  },
  {
   "cell_type": "code",
   "execution_count": 76,
   "metadata": {},
   "outputs": [],
   "source": [
    "def haslen2(X):\n",
    "    for m in range(1,int(.5*max(X)+2)):\n",
    "        n = max(X) - m\n",
    "        f = open(atom_ref_path+str(m),'r')\n",
    "        g = open(atom_ref_path+str(n),'r')\n",
    "        at_classes = [[tuple(eval(a)) for a in f if is_subset(eval(a),X)],\n",
    "                      [tuple(eval(a)) for a in g if is_subset(eval(a),X)]]\n",
    "        f.close()\n",
    "        g.close()\n",
    "        at_tuples = it.product(*at_classes)\n",
    "        for aa in at_tuples:\n",
    "            if len(msum(*aa)) == X:\n",
    "                if msum(*aa) == X:\n",
    "                    return True\n",
    "    return False"
   ]
  },
  {
   "cell_type": "code",
   "execution_count": 77,
   "metadata": {},
   "outputs": [
    {
     "name": "stdout",
     "output_type": "stream",
     "text": [
      "0.0003902912139892578\n",
      "2.1457672119140625e-06\n",
      "0.8071022033691406\n",
      "9.5367431640625e-07\n",
      "0.36905598640441895\n",
      "0.3880767822265625\n",
      "0.529757022857666\n",
      "0.11855173110961914\n",
      "0.5271868705749512\n",
      "0.3993511199951172\n",
      "0.2071077823638916\n",
      "0.2097930908203125\n",
      "0.420712947845459\n",
      "0.20154809951782227\n",
      "0.37605786323547363\n"
     ]
    }
   ],
   "source": [
    "n = 10\n",
    "trips = []\n",
    "t = time()\n",
    "for p in parts(n,3):\n",
    "    print(time() - t)\n",
    "    t = time()\n",
    "    if 0 not in p:\n",
    "        f = open(atom_ref_path+str(p[0]))\n",
    "        g = open(atom_ref_path+str(p[1]))\n",
    "        h = open(atom_ref_path+str(p[2]))\n",
    "        at_classes = [[tuple(eval(a)) for a in f],\n",
    "                      [tuple(eval(a)) for a in g],\n",
    "                      [tuple(eval(a)) for a in h]]\n",
    "        f.close()\n",
    "        g.close()\n",
    "        h.close()\n",
    "        at_tuples = it.product(*at_classes)\n",
    "        for aa in at_tuples:\n",
    "            if not haslen2(msum(*aa)):\n",
    "                trips.append(aa)"
   ]
  },
  {
   "cell_type": "code",
   "execution_count": 78,
   "metadata": {},
   "outputs": [],
   "source": [
    "goods = list(set(tuple(msum(*aa)) for aa in trips))\n",
    "goods = [set(g) for g in goods]"
   ]
  },
  {
   "cell_type": "code",
   "execution_count": 79,
   "metadata": {},
   "outputs": [
    {
     "data": {
      "text/plain": [
       "40"
      ]
     },
     "execution_count": 79,
     "metadata": {},
     "output_type": "execute_result"
    }
   ],
   "source": [
    "len(goods)"
   ]
  },
  {
   "cell_type": "code",
   "execution_count": 80,
   "metadata": {},
   "outputs": [],
   "source": [
    "glens = [lengths(g) for g in goods]"
   ]
  },
  {
   "cell_type": "code",
   "execution_count": 81,
   "metadata": {},
   "outputs": [
    {
     "data": {
      "text/plain": [
       "[{2, 3, 4, 5},\n",
       " {2, 3, 4},\n",
       " {2, 3, 4},\n",
       " {2, 3},\n",
       " {2, 3},\n",
       " {3},\n",
       " {3},\n",
       " {2, 3},\n",
       " {2, 3},\n",
       " {2, 3},\n",
       " {3},\n",
       " {2, 3, 4},\n",
       " {2, 3},\n",
       " {2, 3},\n",
       " {2, 3, 4},\n",
       " {2, 3, 4},\n",
       " {2, 3},\n",
       " {2, 3, 4, 5},\n",
       " {3},\n",
       " {2, 3},\n",
       " {2, 3},\n",
       " {2, 3},\n",
       " {2, 3, 4},\n",
       " {2, 3},\n",
       " {2, 3},\n",
       " {2, 3},\n",
       " {2, 3},\n",
       " {2, 3},\n",
       " {2, 3},\n",
       " {2, 3, 4},\n",
       " {2, 3},\n",
       " {2, 3},\n",
       " {2, 3},\n",
       " {2, 3},\n",
       " {2, 3, 4},\n",
       " {3},\n",
       " {2, 3, 4, 5, 6, 7, 8, 9, 10},\n",
       " {2, 3, 4},\n",
       " {3},\n",
       " {2, 3}]"
      ]
     },
     "execution_count": 81,
     "metadata": {},
     "output_type": "execute_result"
    }
   ],
   "source": [
    "glens"
   ]
  },
  {
   "cell_type": "code",
   "execution_count": 86,
   "metadata": {},
   "outputs": [
    {
     "data": {
      "text/plain": [
       "{0, 1, 2, 3, 4, 7, 8, 9, 10}"
      ]
     },
     "execution_count": 86,
     "metadata": {},
     "output_type": "execute_result"
    }
   ],
   "source": [
    "X = goods[1]\n",
    "X"
   ]
  },
  {
   "cell_type": "code",
   "execution_count": 87,
   "metadata": {},
   "outputs": [],
   "source": [
    "F = facs_by_type(X)"
   ]
  },
  {
   "cell_type": "code",
   "execution_count": 88,
   "metadata": {},
   "outputs": [
    {
     "data": {
      "text/plain": [
       "7"
      ]
     },
     "execution_count": 88,
     "metadata": {},
     "output_type": "execute_result"
    }
   ],
   "source": [
    "len(F)"
   ]
  },
  {
   "cell_type": "code",
   "execution_count": null,
   "metadata": {},
   "outputs": [],
   "source": [
    "#The following contracted cells were for the purpose of \n",
    "#determining whether subsets of \\NN always have a unique longest factorization\n",
    "#They do not; the suppressed code produces the counterexamples with max = 10"
   ]
  },
  {
   "cell_type": "code",
   "execution_count": 9,
   "metadata": {},
   "outputs": [],
   "source": [
    "SS = interval_subsets(10)"
   ]
  },
  {
   "cell_type": "code",
   "execution_count": 11,
   "metadata": {},
   "outputs": [],
   "source": [
    "TT = [X for X in SS if not is_atom(X)]"
   ]
  },
  {
   "cell_type": "code",
   "execution_count": 13,
   "metadata": {},
   "outputs": [
    {
     "data": {
      "text/plain": [
       "189"
      ]
     },
     "execution_count": 13,
     "metadata": {},
     "output_type": "execute_result"
    }
   ],
   "source": [
    "len(TT)"
   ]
  },
  {
   "cell_type": "code",
   "execution_count": 14,
   "metadata": {},
   "outputs": [],
   "source": [
    "FF = [facs_by_type(X) for X in TT]"
   ]
  },
  {
   "cell_type": "code",
   "execution_count": 15,
   "metadata": {},
   "outputs": [
    {
     "data": {
      "text/plain": [
       "189"
      ]
     },
     "execution_count": 15,
     "metadata": {},
     "output_type": "execute_result"
    }
   ],
   "source": [
    "len(FF)"
   ]
  },
  {
   "cell_type": "code",
   "execution_count": 17,
   "metadata": {},
   "outputs": [
    {
     "name": "stdout",
     "output_type": "stream",
     "text": [
      "107\n"
     ]
    }
   ],
   "source": [
    "count = 0\n",
    "for F in FF:\n",
    "    if len(F)==1:\n",
    "        count +=1\n",
    "print(count)"
   ]
  },
  {
   "cell_type": "code",
   "execution_count": 18,
   "metadata": {},
   "outputs": [],
   "source": [
    "Tnu = []\n",
    "Fnu = []\n",
    "for i in range(len(TT)):\n",
    "    if len(FF[i]) > 1:\n",
    "        Tnu.append(TT[i])\n",
    "        Fnu.append(FF[i])\n",
    "        "
   ]
  },
  {
   "cell_type": "code",
   "execution_count": 26,
   "metadata": {},
   "outputs": [],
   "source": [
    "Mnu = []\n",
    "for i in range(len(Tnu)):\n",
    "    Mnu.append(max([len(f) for f in Fnu[i]]))"
   ]
  },
  {
   "cell_type": "code",
   "execution_count": 28,
   "metadata": {},
   "outputs": [],
   "source": [
    "VV = []\n",
    "GG = []\n",
    "for i in range(len(Tnu)):\n",
    "    if len([f for f in Fnu[i] if len(f)==Mnu[i]]) > 1:\n",
    "        VV.append(Tnu[i])\n",
    "        GG.append(Fnu[i])"
   ]
  },
  {
   "cell_type": "code",
   "execution_count": 32,
   "metadata": {},
   "outputs": [],
   "source": [
    "LL = [set(len(f) for f in GG[i]) for i in range(len(GG))]"
   ]
  },
  {
   "cell_type": "code",
   "execution_count": 64,
   "metadata": {},
   "outputs": [
    {
     "name": "stdout",
     "output_type": "stream",
     "text": [
      "i  :  L(X) : #longest factorizations\n",
      "0  :  {2}  :  2\n",
      "1  :  {2}  :  2\n",
      "2  :  {2}  :  2\n",
      "3  :  {2}  :  2\n",
      "4  :  {2}  :  3\n",
      "5  :  {2}  :  3\n",
      "6  :  {2}  :  2\n",
      "7  :  {2}  :  5\n",
      "8  :  {2}  :  2\n",
      "9  :  {2}  :  5\n",
      "10  :  {2, 3}  :  2\n",
      "11  :  {2}  :  2\n",
      "12  :  {2}  :  2\n",
      "13  :  {2}  :  3\n",
      "14  :  {2}  :  2\n",
      "15  :  {2, 3}  :  2\n",
      "16  :  {2}  :  2\n",
      "17  :  {2}  :  3\n",
      "18  :  {2}  :  3\n",
      "19  :  {2}  :  2\n",
      "20  :  {2}  :  3\n",
      "21  :  {2}  :  2\n",
      "22  :  {2}  :  5\n",
      "23  :  {2}  :  5\n",
      "24  :  {2}  :  3\n",
      "25  :  {2}  :  3\n",
      "26  :  {2}  :  5\n",
      "27  :  {2}  :  2\n",
      "28  :  {2}  :  5\n",
      "29  :  {2}  :  2\n",
      "30  :  {2}  :  2\n",
      "31  :  {2}  :  2\n",
      "32  :  {2}  :  8\n",
      "33  :  {2, 3}  :  4\n",
      "34  :  {2}  :  9\n",
      "35  :  {2}  :  8\n",
      "36  :  {2, 3}  :  4\n",
      "37  :  {2}  :  2\n",
      "38  :  {2}  :  4\n",
      "39  :  {2}  :  2\n",
      "40  :  {2}  :  2\n",
      "41  :  {2}  :  3\n",
      "42  :  {2}  :  2\n",
      "43  :  {2}  :  2\n",
      "44  :  {2, 3}  :  4\n",
      "45  :  {2}  :  6\n",
      "46  :  {2}  :  2\n",
      "47  :  {2}  :  4\n",
      "48  :  {2}  :  9\n",
      "49  :  {2}  :  2\n",
      "50  :  {2}  :  2\n",
      "51  :  {2}  :  8\n",
      "52  :  {2, 3}  :  4\n",
      "53  :  {2}  :  8\n",
      "54  :  {2, 3, 4}  :  4\n",
      "55  :  {2, 3}  :  12\n",
      "56  :  {2, 3}  :  8\n",
      "57  :  {2, 3, 4}  :  2\n",
      "58  :  {2, 3, 4}  :  2\n",
      "59  :  {2, 3}  :  8\n",
      "60  :  {2, 3}  :  12\n",
      "61  :  {2, 3, 4}  :  4\n"
     ]
    }
   ],
   "source": [
    "print('i  :  L(X) : #longest factorizations')\n",
    "for i in range(len(VV)):\n",
    "    print(i,' : ',LL[i],' : ',len([f for f in GG[i] if len(f)==max([len(f) for f in GG[i]])]))"
   ]
  },
  {
   "cell_type": "code",
   "execution_count": 67,
   "metadata": {},
   "outputs": [
    {
     "name": "stdout",
     "output_type": "stream",
     "text": [
      "i = 0 :  {0, 1, 2, 3, 9, 10}\n",
      "\n",
      "((0, 9, 2), (0, 1))\n",
      "((0, 1, 2, 9), (0, 1))\n",
      "\n",
      "i = 1 :  {0, 1, 3, 4, 7, 10}\n",
      "\n",
      "((0, 3), (0, 1, 4, 7))\n",
      "((0, 3), (0, 1, 7))\n",
      "\n",
      "i = 2 :  {0, 1, 7, 8, 9, 10}\n",
      "\n",
      "((0, 9, 7), (0, 1))\n",
      "((8, 0, 9, 7), (0, 1))\n",
      "\n",
      "i = 3 :  {0, 3, 6, 7, 9, 10}\n",
      "\n",
      "((0, 3, 6, 7), (0, 3))\n",
      "((0, 6, 7), (0, 3))\n",
      "\n",
      "i = 4 :  {0, 1, 2, 3, 4, 9, 10}\n",
      "\n",
      "((0, 1, 2, 3, 9), (0, 1))\n",
      "((0, 9, 2, 3), (0, 1))\n",
      "((0, 1, 3, 9), (0, 1))\n",
      "\n",
      "i = 5 :  {0, 1, 6, 7, 8, 9, 10}\n",
      "\n",
      "((0, 6, 7, 8, 9), (0, 1))\n",
      "((0, 9, 6, 7), (0, 1))\n",
      "((8, 0, 6, 9), (0, 1))\n",
      "\n",
      "i = 6 :  {0, 1, 2, 3, 4, 5, 7, 10}\n",
      "\n",
      "((0, 3), (0, 1, 2, 4, 7))\n",
      "((0, 3), (0, 1, 2, 7))\n",
      "\n",
      "i = 7 :  {0, 1, 2, 3, 4, 5, 9, 10}\n",
      "\n",
      "((0, 1, 2, 4, 9), (0, 1))\n",
      "((0, 1, 2, 3, 4, 9), (0, 1))\n",
      "((0, 9, 2, 4), (0, 1))\n",
      "((0, 1, 3, 4, 9), (0, 1))\n",
      "((0, 2, 3, 4, 9), (0, 1))\n",
      "\n",
      "i = 8 :  {0, 1, 2, 3, 4, 6, 7, 10}\n",
      "\n",
      "((0, 2, 3, 6), (0, 1, 4))\n",
      "((0, 2, 6), (0, 1, 4))\n",
      "\n",
      "i = 9 :  {0, 1, 2, 3, 4, 6, 8, 10}\n",
      "\n",
      "((0, 2), (0, 1, 4, 6, 8))\n",
      "((0, 2), (0, 1, 2, 4, 8))\n",
      "((0, 2), (0, 1, 4, 8))\n",
      "((0, 2), (0, 1, 2, 6, 8))\n",
      "((0, 2), (0, 1, 2, 4, 6, 8))\n",
      "\n",
      "i = 10 :  {0, 1, 2, 3, 4, 8, 9, 10}\n",
      "\n",
      "((0, 8, 2), (0, 1), (0, 1))\n",
      "((0, 1, 2, 8), (0, 1), (0, 1))\n",
      "\n",
      "i = 11 :  {0, 1, 2, 3, 5, 6, 7, 10}\n",
      "\n",
      "((0, 1, 5), (0, 1, 2, 5))\n",
      "((0, 2, 5), (0, 1, 5))\n",
      "\n",
      "i = 12 :  {0, 1, 2, 3, 5, 6, 9, 10}\n",
      "\n",
      "((0, 9, 2, 5), (0, 1))\n",
      "((0, 1, 2, 5, 9), (0, 1))\n",
      "\n",
      "i = 13 :  {0, 1, 2, 3, 5, 7, 8, 10}\n",
      "\n",
      "((0, 2, 7), (0, 1, 3))\n",
      "((0, 2), (0, 1, 5, 8))\n",
      "((0, 2), (0, 1, 3, 5, 8))\n",
      "\n",
      "i = 14 :  {0, 1, 2, 3, 6, 7, 9, 10}\n",
      "\n",
      "((0, 9, 2, 6), (0, 1))\n",
      "((0, 1, 2, 6, 9), (0, 1))\n",
      "\n",
      "i = 15 :  {0, 1, 2, 6, 7, 8, 9, 10}\n",
      "\n",
      "((0, 8, 6), (0, 1), (0, 1))\n",
      "((0, 8, 6, 7), (0, 1), (0, 1))\n",
      "\n",
      "i = 16 :  {0, 1, 3, 4, 5, 6, 8, 10}\n",
      "\n",
      "((0, 3, 5), (0, 1, 3, 5))\n",
      "((0, 3, 5), (0, 1, 5))\n",
      "\n",
      "i = 17 :  {0, 1, 3, 4, 5, 6, 9, 10}\n",
      "\n",
      "((0, 3, 4, 5, 9), (0, 1))\n",
      "((0, 3, 4), (0, 1, 6))\n",
      "((0, 9, 3, 5), (0, 1))\n",
      "\n",
      "i = 18 :  {0, 1, 3, 4, 5, 7, 8, 10}\n",
      "\n",
      "((0, 3), (0, 1, 5, 7))\n",
      "((0, 3), (0, 1, 4, 5, 7))\n",
      "((0, 4, 7), (0, 1, 3))\n",
      "\n",
      "i = 19 :  {0, 1, 3, 4, 7, 8, 9, 10}\n",
      "\n",
      "((0, 9, 3, 7), (0, 1))\n",
      "((0, 3, 7, 8, 9), (0, 1))\n",
      "\n",
      "i = 20 :  {0, 1, 4, 5, 6, 7, 9, 10}\n",
      "\n",
      "((0, 5, 6), (0, 1, 4))\n",
      "((0, 4, 5, 6, 9), (0, 1))\n",
      "((0, 9, 4, 6), (0, 1))\n",
      "\n",
      "i = 21 :  {0, 1, 4, 5, 7, 8, 9, 10}\n",
      "\n",
      "((0, 9, 4, 7), (0, 1))\n",
      "((0, 4, 7, 8, 9), (0, 1))\n",
      "\n",
      "i = 22 :  {0, 1, 5, 6, 7, 8, 9, 10}\n",
      "\n",
      "((0, 5, 7, 8, 9), (0, 1))\n",
      "((0, 9, 5, 7), (0, 1))\n",
      "((0, 5, 6, 7, 9), (0, 1))\n",
      "((0, 5, 6, 7, 8, 9), (0, 1))\n",
      "((0, 5, 6, 8, 9), (0, 1))\n",
      "\n",
      "i = 23 :  {0, 2, 3, 4, 5, 6, 8, 10}\n",
      "\n",
      "((0, 3, 4, 6, 8), (0, 2))\n",
      "((0, 2, 3, 4, 6, 8), (0, 2))\n",
      "((0, 2, 3, 4, 8), (0, 2))\n",
      "((0, 2, 3, 6, 8), (0, 2))\n",
      "((0, 8, 3, 4), (0, 2))\n",
      "\n",
      "i = 24 :  {0, 2, 3, 5, 6, 7, 9, 10}\n",
      "\n",
      "((0, 3), (0, 2, 6, 7))\n",
      "((0, 3), (0, 2, 3, 6, 7))\n",
      "((0, 3, 7), (0, 2, 3))\n",
      "\n",
      "i = 25 :  {0, 2, 3, 5, 7, 8, 9, 10}\n",
      "\n",
      "((0, 3, 5, 7, 8), (0, 2))\n",
      "((0, 5, 7), (0, 2, 3))\n",
      "((0, 8, 3, 7), (0, 2))\n",
      "\n",
      "i = 26 :  {0, 2, 4, 5, 6, 7, 8, 10}\n",
      "\n",
      "((0, 2, 4, 5, 6, 8), (0, 2))\n",
      "((0, 8, 4, 5), (0, 2))\n",
      "((0, 2, 5, 6, 8), (0, 2))\n",
      "((0, 2, 4, 5, 8), (0, 2))\n",
      "((0, 4, 5, 6, 8), (0, 2))\n",
      "\n",
      "i = 27 :  {0, 2, 4, 5, 6, 7, 9, 10}\n",
      "\n",
      "((0, 2, 5), (0, 2, 4, 5))\n",
      "((0, 4, 5), (0, 2, 5))\n",
      "\n",
      "i = 28 :  {0, 2, 4, 6, 7, 8, 9, 10}\n",
      "\n",
      "((0, 2, 4, 7, 8), (0, 2))\n",
      "((0, 2, 6, 7, 8), (0, 2))\n",
      "((0, 2, 4, 6, 7, 8), (0, 2))\n",
      "((0, 4, 6, 7, 8), (0, 2))\n",
      "((0, 8, 4, 7), (0, 2))\n",
      "\n",
      "i = 29 :  {0, 3, 4, 5, 7, 8, 9, 10}\n",
      "\n",
      "((0, 4, 5), (0, 3, 4, 5))\n",
      "((0, 4, 5), (0, 3, 5))\n",
      "\n",
      "i = 30 :  {0, 3, 4, 6, 7, 8, 9, 10}\n",
      "\n",
      "((0, 3, 4, 6), (0, 3, 4))\n",
      "((0, 4, 6), (0, 3, 4))\n",
      "\n",
      "i = 31 :  {0, 3, 5, 6, 7, 8, 9, 10}\n",
      "\n",
      "((0, 5, 6, 7), (0, 3))\n",
      "((0, 3, 5, 6, 7), (0, 3))\n",
      "\n",
      "i = 32 :  {0, 1, 2, 3, 4, 5, 6, 7, 10}\n",
      "\n",
      "((0, 1, 4), (0, 1, 3, 6))\n",
      "((0, 2, 5), (0, 1, 2, 5))\n",
      "((0, 1, 4), (0, 1, 2, 6))\n",
      "((0, 3), (0, 1, 2, 3, 7))\n",
      "((0, 1, 4), (0, 1, 2, 3, 6))\n",
      "((0, 1, 2, 5), (0, 1, 2, 5))\n",
      "((0, 3), (0, 1, 2, 3, 4, 7))\n",
      "((0, 4), (0, 1, 2, 3, 6))\n",
      "\n",
      "i = 33 :  {0, 1, 2, 3, 4, 5, 6, 8, 10}\n",
      "\n",
      "((0, 2), (0, 2), (0, 1, 2, 4, 6))\n",
      "((0, 2), (0, 2), (0, 1, 2, 6))\n",
      "((0, 2), (0, 2), (0, 1, 6))\n",
      "((0, 2), (0, 2), (0, 1, 4, 6))\n",
      "\n",
      "i = 34 :  {0, 1, 2, 3, 4, 5, 6, 9, 10}\n",
      "\n",
      "((0, 1, 3, 5, 9), (0, 1))\n",
      "((0, 1, 2, 3, 5, 9), (0, 1))\n",
      "((0, 1, 3, 4, 5, 9), (0, 1))\n",
      "((0, 2, 3, 4, 5, 9), (0, 1))\n",
      "((0, 2, 3, 5, 9), (0, 1))\n",
      "((0, 3, 4), (0, 1, 2, 6))\n",
      "((0, 1, 2, 3, 4, 5, 9), (0, 1))\n",
      "((0, 2, 4, 5, 9), (0, 1))\n",
      "((0, 1, 2, 4, 5, 9), (0, 1))\n",
      "\n",
      "i = 35 :  {0, 1, 2, 3, 4, 5, 7, 8, 10}\n",
      "\n",
      "((0, 3), (0, 1, 2, 5, 7))\n",
      "((0, 2, 4, 7), (0, 1, 3))\n",
      "((0, 1, 3), (0, 1, 2, 7))\n",
      "((0, 1, 4, 7), (0, 1, 3))\n",
      "((0, 3), (0, 1, 2, 4, 5, 7))\n",
      "((0, 2), (0, 1, 2, 5, 8))\n",
      "((0, 1, 3), (0, 1, 2, 4, 7))\n",
      "((0, 2), (0, 1, 2, 3, 5, 8))\n",
      "\n",
      "i = 36 :  {0, 1, 2, 3, 4, 5, 8, 9, 10}\n",
      "\n",
      "((0, 8, 3), (0, 1), (0, 1))\n",
      "((0, 1, 2, 3, 8), (0, 1), (0, 1))\n",
      "((0, 8, 2, 3), (0, 1), (0, 1))\n",
      "((0, 1, 3, 8), (0, 1), (0, 1))\n",
      "\n",
      "i = 37 :  {0, 1, 2, 3, 4, 6, 7, 8, 10}\n",
      "\n",
      "((0, 2, 6), (0, 1, 2, 4))\n",
      "((0, 1, 3, 7), (0, 1, 3))\n",
      "\n",
      "i = 38 :  {0, 1, 2, 3, 4, 6, 7, 9, 10}\n",
      "\n",
      "((0, 2, 3), (0, 1, 4, 7))\n",
      "((0, 1, 2, 3, 6, 9), (0, 1))\n",
      "((0, 2, 3, 6, 9), (0, 1))\n",
      "((0, 1, 3, 6, 9), (0, 1))\n",
      "\n",
      "i = 39 :  {0, 1, 2, 3, 5, 6, 7, 9, 10}\n",
      "\n",
      "((0, 2, 5, 6, 9), (0, 1))\n",
      "((0, 1, 2, 5, 6, 9), (0, 1))\n",
      "\n",
      "i = 40 :  {0, 1, 2, 3, 5, 6, 8, 9, 10}\n",
      "\n",
      "((0, 1, 2, 5, 8, 9), (0, 1))\n",
      "((0, 2, 5, 8, 9), (0, 1))\n",
      "\n",
      "i = 41 :  {0, 1, 2, 3, 5, 7, 8, 9, 10}\n",
      "\n",
      "((0, 2), (0, 1, 5, 7, 8))\n",
      "((0, 2), (0, 1, 3, 5, 7, 8))\n",
      "((0, 2), (0, 1, 3, 7, 8))\n",
      "\n",
      "i = 42 :  {0, 1, 2, 4, 5, 6, 7, 8, 10}\n",
      "\n",
      "((0, 1, 4, 6), (0, 1, 4))\n",
      "((0, 4, 6), (0, 1, 2, 4))\n",
      "\n",
      "i = 43 :  {0, 1, 2, 4, 5, 7, 8, 9, 10}\n",
      "\n",
      "((0, 1, 4, 7, 9), (0, 1))\n",
      "((0, 1, 4, 7, 8, 9), (0, 1))\n",
      "\n",
      "i = 44 :  {0, 1, 2, 5, 6, 7, 8, 9, 10}\n",
      "\n",
      "((0, 5, 6, 7, 8), (0, 1), (0, 1))\n",
      "((0, 8, 5), (0, 1), (0, 1))\n",
      "((0, 8, 5, 7), (0, 1), (0, 1))\n",
      "((0, 8, 5, 6), (0, 1), (0, 1))\n",
      "\n",
      "i = 45 :  {0, 1, 3, 4, 5, 6, 7, 9, 10}\n",
      "\n",
      "((0, 4), (0, 1, 3, 5, 6))\n",
      "((0, 3, 4), (0, 1, 3, 6))\n",
      "((0, 3, 5, 6, 9), (0, 1))\n",
      "((0, 3, 5, 6), (0, 1, 4))\n",
      "((0, 3, 4, 6, 9), (0, 1))\n",
      "((0, 3, 4, 5, 6, 9), (0, 1))\n",
      "\n",
      "i = 46 :  {0, 1, 3, 4, 5, 7, 8, 9, 10}\n",
      "\n",
      "((0, 3, 4, 7, 9), (0, 1))\n",
      "((0, 3, 4, 7, 8, 9), (0, 1))\n",
      "\n",
      "i = 47 :  {0, 1, 3, 4, 6, 7, 8, 9, 10}\n",
      "\n",
      "((0, 3, 6, 7, 9), (0, 1))\n",
      "((0, 3, 6, 8, 9), (0, 1))\n",
      "((0, 3, 6, 7), (0, 1, 3))\n",
      "((0, 3, 6, 7, 8, 9), (0, 1))\n",
      "\n",
      "i = 48 :  {0, 1, 4, 5, 6, 7, 8, 9, 10}\n",
      "\n",
      "((0, 4, 5, 6), (0, 1, 4))\n",
      "((0, 4, 6, 7, 9), (0, 1))\n",
      "((0, 4, 5, 6, 7, 9), (0, 1))\n",
      "((0, 4, 6, 7, 8, 9), (0, 1))\n",
      "((0, 4, 5, 6, 8, 9), (0, 1))\n",
      "((0, 4, 6, 8, 9), (0, 1))\n",
      "((0, 4, 5, 7, 9), (0, 1))\n",
      "((0, 4, 5, 6, 7, 8, 9), (0, 1))\n",
      "((0, 4, 5, 7, 8, 9), (0, 1))\n",
      "\n",
      "i = 49 :  {0, 2, 3, 4, 5, 6, 8, 9, 10}\n",
      "\n",
      "((0, 2, 6), (0, 2, 3, 4))\n",
      "((0, 3, 4), (0, 2, 5, 6))\n",
      "\n",
      "i = 50 :  {0, 2, 3, 4, 6, 7, 8, 9, 10}\n",
      "\n",
      "((0, 4, 6), (0, 2, 3, 4))\n",
      "((0, 4, 6, 7), (0, 2, 3))\n",
      "\n",
      "i = 51 :  {0, 2, 3, 5, 6, 7, 8, 9, 10}\n",
      "\n",
      "((0, 3, 5, 6, 7, 8), (0, 2))\n",
      "((0, 3, 6, 7, 8), (0, 2))\n",
      "((0, 3), (0, 2, 3, 5, 6, 7))\n",
      "((0, 3, 5, 7), (0, 2, 3))\n",
      "((0, 3), (0, 2, 5, 6, 7))\n",
      "((0, 5, 6, 7), (0, 2, 3))\n",
      "((0, 3, 5, 6, 7), (0, 2, 3))\n",
      "((0, 3, 6, 7), (0, 2, 3))\n",
      "\n",
      "i = 52 :  {0, 2, 4, 5, 6, 7, 8, 9, 10}\n",
      "\n",
      "((0, 4, 5, 6), (0, 2), (0, 2))\n",
      "((0, 2, 5, 6), (0, 2), (0, 2))\n",
      "((0, 2, 4, 5, 6), (0, 2), (0, 2))\n",
      "((0, 5, 6), (0, 2), (0, 2))\n",
      "\n",
      "i = 53 :  {0, 3, 4, 5, 6, 7, 8, 9, 10}\n",
      "\n",
      "((0, 3, 4, 5, 6), (0, 3, 4))\n",
      "((0, 4), (0, 3, 4, 5, 6))\n",
      "((0, 3, 5, 6), (0, 3, 4))\n",
      "((0, 3, 4, 5), (0, 3, 4, 5))\n",
      "((0, 4, 5, 6), (0, 3, 4))\n",
      "((0, 3, 5), (0, 3, 4, 5))\n",
      "((0, 4, 5, 6, 7), (0, 3))\n",
      "((0, 3, 4, 5, 6, 7), (0, 3))\n",
      "\n",
      "i = 54 :  {0, 1, 2, 3, 4, 5, 6, 7, 8, 10}\n",
      "\n",
      "((0, 2), (0, 2), (0, 1, 3), (0, 1, 3))\n",
      "((0, 2), (0, 2), (0, 2), (0, 1, 2, 4))\n",
      "((0, 3), (0, 2), (0, 2), (0, 1, 3))\n",
      "((0, 2), (0, 2), (0, 2), (0, 1, 4))\n",
      "\n",
      "i = 55 :  {0, 1, 2, 3, 4, 5, 6, 7, 9, 10}\n",
      "\n",
      "((0, 3), (0, 1, 2, 3, 6), (0, 1))\n",
      "((0, 1, 4), (0, 1, 2, 5), (0, 1))\n",
      "((0, 1, 5), (0, 1, 4), (0, 1))\n",
      "((0, 3), (0, 2, 3), (0, 1, 4))\n",
      "((0, 3), (0, 1, 2, 6), (0, 1))\n",
      "((0, 3), (0, 2, 3, 6), (0, 1))\n",
      "((0, 3), (0, 1, 6), (0, 1))\n",
      "((0, 3), (0, 1, 3, 6), (0, 1))\n",
      "((0, 3), (0, 2, 6), (0, 1))\n",
      "((0, 4), (0, 2, 5), (0, 1))\n",
      "((0, 4), (0, 1, 2, 5), (0, 1))\n",
      "((0, 2, 5), (0, 1, 4), (0, 1))\n",
      "\n",
      "i = 56 :  {0, 1, 2, 3, 4, 5, 6, 8, 9, 10}\n",
      "\n",
      "((0, 2, 3, 4, 8), (0, 1), (0, 1))\n",
      "((0, 8, 3, 4), (0, 1), (0, 1))\n",
      "((0, 1, 2, 3, 4, 8), (0, 1), (0, 1))\n",
      "((0, 1, 2, 4, 8), (0, 1), (0, 1))\n",
      "((0, 8, 2, 4), (0, 1), (0, 1))\n",
      "((0, 1, 3, 4, 8), (0, 1), (0, 1))\n",
      "((0, 3, 4), (0, 1, 5), (0, 1))\n",
      "((0, 1, 4, 8), (0, 1), (0, 1))\n",
      "\n",
      "i = 57 :  {0, 1, 2, 3, 4, 5, 7, 8, 9, 10}\n",
      "\n",
      "((0, 2, 7), (0, 1), (0, 1), (0, 1))\n",
      "((0, 1, 2, 7), (0, 1), (0, 1), (0, 1))\n",
      "\n",
      "i = 58 :  {0, 1, 2, 3, 5, 6, 7, 8, 9, 10}\n",
      "\n",
      "((0, 5, 7), (0, 1), (0, 1), (0, 1))\n",
      "((0, 5, 6, 7), (0, 1), (0, 1), (0, 1))\n",
      "\n",
      "i = 59 :  {0, 1, 2, 4, 5, 6, 7, 8, 9, 10}\n",
      "\n",
      "((0, 8, 4, 7), (0, 1), (0, 1))\n",
      "((0, 4, 6, 7, 8), (0, 1), (0, 1))\n",
      "((0, 4, 5), (0, 1, 4), (0, 1))\n",
      "((0, 8, 4, 6), (0, 1), (0, 1))\n",
      "((0, 4, 5, 6, 8), (0, 1), (0, 1))\n",
      "((0, 4, 5, 6, 7, 8), (0, 1), (0, 1))\n",
      "((0, 4, 5, 7, 8), (0, 1), (0, 1))\n",
      "((0, 8, 4, 5), (0, 1), (0, 1))\n",
      "\n",
      "i = 60 :  {0, 1, 3, 4, 5, 6, 7, 8, 9, 10}\n",
      "\n",
      "((0, 4), (0, 3, 4, 5), (0, 1))\n",
      "((0, 4), (0, 3, 5), (0, 1))\n",
      "((0, 3, 5), (0, 3, 4), (0, 1))\n",
      "((0, 4, 5), (0, 3, 4), (0, 1))\n",
      "((0, 4, 6), (0, 3), (0, 1))\n",
      "((0, 3, 4, 5), (0, 3, 4), (0, 1))\n",
      "((0, 3, 4), (0, 3), (0, 1, 3))\n",
      "((0, 3, 4, 5, 6), (0, 3), (0, 1))\n",
      "((0, 5, 6), (0, 3), (0, 1))\n",
      "((0, 3, 5, 6), (0, 3), (0, 1))\n",
      "((0, 3, 4, 6), (0, 3), (0, 1))\n",
      "((0, 4, 5, 6), (0, 3), (0, 1))\n",
      "\n",
      "i = 61 :  {0, 2, 3, 4, 5, 6, 7, 8, 9, 10}\n",
      "\n",
      "((0, 2, 3), (0, 2, 3), (0, 2), (0, 2))\n",
      "((0, 3), (0, 2, 3), (0, 2), (0, 2))\n",
      "((0, 2, 3, 4), (0, 2), (0, 2), (0, 2))\n",
      "((0, 3, 4), (0, 2), (0, 2), (0, 2))\n",
      "\n"
     ]
    }
   ],
   "source": [
    "for i in range(len(VV)):\n",
    "    print('i =',i,': ',VV[i])\n",
    "    print()\n",
    "    G = GG[i]\n",
    "    m = max([len(g) for g in G])\n",
    "    for f in G:\n",
    "        if len(f) == m:\n",
    "            print(f)\n",
    "    print()"
   ]
  },
  {
   "cell_type": "code",
   "execution_count": 44,
   "metadata": {},
   "outputs": [
    {
     "name": "stdout",
     "output_type": "stream",
     "text": [
      "((0, 8, 2), (0, 1), (0, 1))\n",
      "((0, 1, 2, 8), (0, 1), (0, 1))\n"
     ]
    }
   ],
   "source": [
    "i = 10\n",
    "G = GG[i]\n",
    "m = max([len(g) for g in G])\n",
    "for f in G:\n",
    "    if len(f) == m:\n",
    "        print(f)\n"
   ]
  },
  {
   "cell_type": "code",
   "execution_count": 46,
   "metadata": {},
   "outputs": [],
   "source": [
    "X = {0, 1, 2, 3, 5, 7, 8, 10}"
   ]
  },
  {
   "cell_type": "code",
   "execution_count": 49,
   "metadata": {},
   "outputs": [
    {
     "name": "stdout",
     "output_type": "stream",
     "text": [
      "[2, 2, 2]\n"
     ]
    }
   ],
   "source": []
  },
  {
   "cell_type": "code",
   "execution_count": 53,
   "metadata": {},
   "outputs": [
    {
     "data": {
      "text/plain": [
       "({0, 1, 2, 3, 5, 7, 8, 10},\n",
       " {0, 1, 2, 3, 5, 7, 8, 10},\n",
       " {0, 1, 2, 3, 5, 7, 8, 10})"
      ]
     },
     "execution_count": 53,
     "metadata": {},
     "output_type": "execute_result"
    }
   ],
   "source": [
    "msum((0, 2, 7), (0, 1, 3)), msum((0, 2), (0, 1, 5, 8)), msum((0, 2), (0, 1, 3, 5, 8))"
   ]
  },
  {
   "cell_type": "code",
   "execution_count": 54,
   "metadata": {},
   "outputs": [],
   "source": [
    "X = {0,1,2,3,5,7,8,10}"
   ]
  },
  {
   "cell_type": "code",
   "execution_count": 55,
   "metadata": {},
   "outputs": [],
   "source": [
    "F = facs_by_type(X)"
   ]
  },
  {
   "cell_type": "code",
   "execution_count": 56,
   "metadata": {},
   "outputs": [
    {
     "name": "stdout",
     "output_type": "stream",
     "text": [
      "((0, 2, 7), (0, 1, 3))\n",
      "((0, 2), (0, 1, 5, 8))\n",
      "((0, 2), (0, 1, 3, 5, 8))\n"
     ]
    }
   ],
   "source": [
    "for f in F:\n",
    "    print(f)"
   ]
  },
  {
   "cell_type": "code",
   "execution_count": 9,
   "metadata": {},
   "outputs": [],
   "source": [
    "#After this cell we begin to look into the question of how much duplication there is among sums atoms\n",
    "#In particular, we consider sums of two atoms"
   ]
  },
  {
   "cell_type": "code",
   "execution_count": 10,
   "metadata": {},
   "outputs": [],
   "source": [
    "def nonatoms_of_type(n,P): #produces nonatoms with a factorization of type P and max n\n",
    "    sums = set()\n",
    "    atom_classes = []\n",
    "    for m in P:\n",
    "        atom_classes.append(atom_gen(m))\n",
    "    for aa in it.product(*atom_classes):\n",
    "        sums.add(tuple(sorted(msum(*aa))))\n",
    "    return sums\n",
    "\n",
    "def exp_nonatoms_of_type(n,P):\n",
    "    N = 1\n",
    "    for m in P:\n",
    "        N = N*len([a for a in atom_gen(m)])\n",
    "    return N\n",
    "\n",
    "def nonatoms_of_len(n,l):\n",
    "    sums = set()\n",
    "    for P in parts(n,l):\n",
    "        sums = sums.union(nonatoms_of_type(n,P))\n",
    "    return sums\n",
    "\n",
    "def exp_nonatoms_of_len(n,l):\n",
    "    return sum([exp_nonatoms_of_type(n,P) for P in parts(n,l)])"
   ]
  },
  {
   "cell_type": "code",
   "execution_count": 13,
   "metadata": {},
   "outputs": [
    {
     "data": {
      "text/plain": [
       "(32, 81)"
      ]
     },
     "execution_count": 13,
     "metadata": {},
     "output_type": "execute_result"
    }
   ],
   "source": [
    "n=10\n",
    "p=5\n",
    "P = (p,n-p)\n",
    "N = nonatoms_of_type(n,P)\n",
    "E = exp_nonatoms_of_type(n,P)\n",
    "len(N),E"
   ]
  },
  {
   "cell_type": "code",
   "execution_count": 19,
   "metadata": {},
   "outputs": [],
   "source": [
    "NA = {}\n",
    "for n in N:\n",
    "    NA[n] = 0\n",
    "for a in atom_gen(5):\n",
    "    for b in atom_gen(5):\n",
    "        NA[tuple(sorted(msum(a,b)))] += 1\n",
    "        "
   ]
  },
  {
   "cell_type": "code",
   "execution_count": 22,
   "metadata": {},
   "outputs": [
    {
     "name": "stdout",
     "output_type": "stream",
     "text": [
      "(0, 1, 2, 3, 5, 6, 7, 10) : 4\n",
      "(0, 3, 4, 5, 7, 8, 9, 10) : 4\n",
      "(0, 1, 3, 4, 5, 6, 7, 8, 9, 10) : 4\n",
      "(0, 1, 2, 3, 4, 5, 6, 7, 9, 10) : 4\n",
      "(0, 2, 3, 4, 5, 6, 7, 8, 9, 10) : 4\n",
      "(0, 1, 3, 4, 5, 6, 8, 10) : 4\n",
      "(0, 1, 2, 3, 4, 5, 6, 7, 8, 10) : 4\n",
      "(0, 1, 2, 3, 4, 5, 6, 7, 8, 9, 10) : 4\n",
      "(0, 2, 4, 5, 6, 7, 9, 10) : 4\n"
     ]
    }
   ],
   "source": [
    "for n in NA:\n",
    "    if NA[n] >= 4:\n",
    "        print(n,':',NA[n])"
   ]
  },
  {
   "cell_type": "code",
   "execution_count": 25,
   "metadata": {},
   "outputs": [],
   "source": [
    "NA4 = [n for n in NA if NA[n] == 4]"
   ]
  },
  {
   "cell_type": "code",
   "execution_count": 44,
   "metadata": {},
   "outputs": [
    {
     "name": "stdout",
     "output_type": "stream",
     "text": [
      "{0, 2, 3, 4, 5, 6, 7, 8, 9, 10}\n",
      "49\n",
      "\n",
      "((0, 3, 4), (0, 3), (0, 2, 3))\n",
      "((0, 2, 5, 6, 7), (0, 2, 3))\n",
      "((0, 3, 4, 5), (0, 2, 3), (0, 2))\n",
      "((0, 3, 4), (0, 2, 3, 4), (0, 2))\n",
      "((0, 4, 5), (0, 2, 3), (0, 2))\n",
      "((0, 3, 4, 5, 6), (0, 2, 3, 4))\n",
      "((0, 3, 4, 5, 6), (0, 2), (0, 2))\n",
      "((0, 3, 4), (0, 2, 4, 5, 6))\n",
      "((0, 2, 3, 6), (0, 2, 3, 4))\n",
      "((0, 4), (0, 2, 3), (0, 2, 3))\n",
      "((0, 3, 5), (0, 2, 3), (0, 2))\n",
      "((0, 2, 3, 4, 6), (0, 2, 3, 4))\n",
      "((0, 2, 4, 5), (0, 2, 3), (0, 2))\n",
      "((0, 2, 3, 6, 7), (0, 2, 3))\n",
      "((0, 2, 4, 6, 7), (0, 2, 3))\n",
      "((0, 3, 4, 5), (0, 2, 5))\n",
      "((0, 2, 3, 4), (0, 2, 3), (0, 2, 3))\n",
      "((0, 2, 3), (0, 2, 3), (0, 2), (0, 2))\n",
      "((0, 3, 4, 5, 7), (0, 2, 3))\n",
      "((0, 4, 5), (0, 3), (0, 2))\n",
      "((0, 4, 5, 6, 7), (0, 2, 3))\n",
      "((0, 5, 6), (0, 2, 3, 4))\n",
      "((0, 4), (0, 2, 3, 4), (0, 2))\n",
      "((0, 3), (0, 2, 4, 5), (0, 2))\n",
      "((0, 2, 3, 5, 6, 7), (0, 2, 3))\n",
      "((0, 3, 4), (0, 3, 4), (0, 2))\n",
      "((0, 2, 3, 4, 7, 8), (0, 2))\n",
      "((0, 3, 4), (0, 2, 3), (0, 2, 3))\n",
      "((0, 4, 5, 7), (0, 2, 3))\n",
      "((0, 2, 4, 5, 6), (0, 2, 3, 4))\n",
      "((0, 2, 3, 6, 7, 8), (0, 2))\n",
      "((0, 4, 5, 6), (0, 2, 3, 4))\n",
      "((0, 3, 4), (0, 2, 3, 4, 6))\n",
      "((0, 3), (0, 2, 3), (0, 2), (0, 2))\n",
      "((0, 2, 6, 7), (0, 2, 3))\n",
      "((0, 4), (0, 3, 4), (0, 2))\n",
      "((0, 3, 5, 6), (0, 2, 3, 4))\n",
      "((0, 3, 4, 6), (0, 2, 3, 4))\n",
      "((0, 2, 3, 4), (0, 2, 3, 4), (0, 2))\n",
      "((0, 3), (0, 3), (0, 2, 3, 4))\n",
      "((0, 2, 5), (0, 2, 3), (0, 2))\n",
      "((0, 2, 3, 4), (0, 2), (0, 2), (0, 2))\n",
      "((0, 3, 4, 5), (0, 3), (0, 2))\n",
      "((0, 3, 4, 5, 6, 7), (0, 2, 3))\n",
      "((0, 3, 5, 6), (0, 2), (0, 2))\n",
      "((0, 3, 4, 5), (0, 2, 4, 5))\n",
      "((0, 3, 4), (0, 2), (0, 2), (0, 2))\n",
      "((0, 2, 5, 6), (0, 2, 3, 4))\n",
      "((0, 3), (0, 2, 3, 4), (0, 2, 3))\n"
     ]
    }
   ],
   "source": [
    "X = set(NA4[4])\n",
    "F = facs_by_type(X)\n",
    "print(X)\n",
    "print(len(F))\n",
    "print()\n",
    "for f in F:\n",
    "    print(f)"
   ]
  },
  {
   "cell_type": "code",
   "execution_count": 52,
   "metadata": {},
   "outputs": [],
   "source": [
    "#Number of Interval Factorizations\n",
    "zz = []\n",
    "for n in range(2,15):\n",
    "    zz.append(len(facs_by_type(set(range(n+1))-{-1})))"
   ]
  },
  {
   "cell_type": "code",
   "execution_count": 53,
   "metadata": {},
   "outputs": [
    {
     "data": {
      "text/plain": [
       "[1, 2, 4, 8, 16, 37, 81, 183, 424, 986, 2288, 5316, 12374]"
      ]
     },
     "execution_count": 53,
     "metadata": {},
     "output_type": "execute_result"
    }
   ],
   "source": [
    "zz"
   ]
  },
  {
   "cell_type": "code",
   "execution_count": null,
   "metadata": {},
   "outputs": [],
   "source": []
  },
  {
   "cell_type": "code",
   "execution_count": null,
   "metadata": {},
   "outputs": [],
   "source": []
  },
  {
   "cell_type": "code",
   "execution_count": 149,
   "metadata": {},
   "outputs": [
    {
     "data": {
      "text/plain": [
       "(609, 2957)"
      ]
     },
     "execution_count": 149,
     "metadata": {},
     "output_type": "execute_result"
    }
   ],
   "source": [
    "n=12\n",
    "l=2\n",
    "N = nonatoms_of_len(n,l)\n",
    "E = exp_nonatoms_of_len(n,l)\n",
    "len(N),E"
   ]
  },
  {
   "cell_type": "code",
   "execution_count": null,
   "metadata": {},
   "outputs": [],
   "source": []
  },
  {
   "cell_type": "code",
   "execution_count": null,
   "metadata": {},
   "outputs": [],
   "source": []
  },
  {
   "cell_type": "code",
   "execution_count": 210,
   "metadata": {},
   "outputs": [
    {
     "name": "stdout",
     "output_type": "stream",
     "text": [
      "P       N     E     N/E\n",
      "(15, 1) 1834 12368 0.15\n",
      "(14, 2) 1280 5956 0.21\n",
      "(13, 3) 1532 8706 0.18\n",
      "(12, 4) 1227 7120 0.17\n",
      "(11, 5) 1313 6138 0.21\n",
      "(10, 6) 1258 6137 0.2\n",
      "(9, 7) 1295 6552 0.2\n",
      "(8, 8) 661 5929 0.11\n",
      "\n",
      "7371 10400 58906 0.17655247343224797 131072\n"
     ]
    }
   ],
   "source": [
    "n=16\n",
    "l = 2\n",
    "NN = 0\n",
    "EE = 0\n",
    "print('P       N     E     N/E')\n",
    "for P in parts(n,l):\n",
    "    N = len(nonatoms_of_type(n,P))\n",
    "    E = exp_nonatoms_of_type(n,P)\n",
    "    NN += N\n",
    "    EE += E\n",
    "    print(P,N,E,round(N/E,2))\n",
    "print()\n",
    "print(len(nonatoms_of_len(n,l)),NN,EE,NN/EE, len(parts(n,l))*2**(n-l))"
   ]
  },
  {
   "cell_type": "code",
   "execution_count": 197,
   "metadata": {},
   "outputs": [],
   "source": [
    "N = nonatoms_of_type(12,(6,6))"
   ]
  },
  {
   "cell_type": "code",
   "execution_count": 200,
   "metadata": {},
   "outputs": [
    {
     "data": {
      "text/plain": [
       "{10: 16, 7: 10, 6: 4, 12: 8, 11: 19, 9: 18, 5: 4, 8: 4, 13: 1, 3: 1}"
      ]
     },
     "execution_count": 200,
     "metadata": {},
     "output_type": "execute_result"
    }
   ],
   "source": [
    "lens = {}\n",
    "for n in N:\n",
    "    if len(n) not in lens:\n",
    "        lens[len(n)]=1\n",
    "    else:\n",
    "        lens[len(n)]+=1\n",
    "lens"
   ]
  },
  {
   "cell_type": "code",
   "execution_count": null,
   "metadata": {},
   "outputs": [],
   "source": []
  },
  {
   "cell_type": "code",
   "execution_count": null,
   "metadata": {},
   "outputs": [],
   "source": []
  },
  {
   "cell_type": "code",
   "execution_count": null,
   "metadata": {},
   "outputs": [],
   "source": []
  },
  {
   "cell_type": "code",
   "execution_count": null,
   "metadata": {},
   "outputs": [],
   "source": []
  },
  {
   "cell_type": "code",
   "execution_count": null,
   "metadata": {},
   "outputs": [],
   "source": []
  },
  {
   "cell_type": "code",
   "execution_count": null,
   "metadata": {},
   "outputs": [],
   "source": []
  },
  {
   "cell_type": "code",
   "execution_count": 74,
   "metadata": {},
   "outputs": [],
   "source": [
    "n = 12\n",
    "sums = set()\n",
    "for q in range(1,7):\n",
    "    for a in atom_ref(n-q):\n",
    "        for b in atom_ref(q):\n",
    "            sums.add(tuple(sorted(msum(a,b))))"
   ]
  },
  {
   "cell_type": "code",
   "execution_count": 75,
   "metadata": {},
   "outputs": [
    {
     "data": {
      "text/plain": [
       "2035"
      ]
     },
     "execution_count": 75,
     "metadata": {},
     "output_type": "execute_result"
    }
   ],
   "source": [
    "len(sums)"
   ]
  },
  {
   "cell_type": "code",
   "execution_count": 86,
   "metadata": {},
   "outputs": [],
   "source": [
    "n = 12\n",
    "exp_sums = 0\n",
    "for q in range(1,int(n/2+1)):\n",
    "    exp_sums += len([a for a in atom_ref(n-q)])*len([b for b in atom_ref(q)])\n",
    "    "
   ]
  },
  {
   "cell_type": "code",
   "execution_count": null,
   "metadata": {},
   "outputs": [],
   "source": []
  },
  {
   "cell_type": "code",
   "execution_count": null,
   "metadata": {},
   "outputs": [],
   "source": []
  },
  {
   "cell_type": "code",
   "execution_count": null,
   "metadata": {},
   "outputs": [],
   "source": []
  },
  {
   "cell_type": "code",
   "execution_count": null,
   "metadata": {},
   "outputs": [],
   "source": []
  },
  {
   "cell_type": "code",
   "execution_count": 9,
   "metadata": {},
   "outputs": [],
   "source": [
    "#counting factorizations of intervals"
   ]
  },
  {
   "cell_type": "code",
   "execution_count": 13,
   "metadata": {},
   "outputs": [
    {
     "name": "stdout",
     "output_type": "stream",
     "text": [
      "424\n"
     ]
    }
   ],
   "source": [
    "n=10\n",
    "I = set(range(n+1))\n",
    "Z = facs_by_type(I)\n",
    "print(len(Z))"
   ]
  },
  {
   "cell_type": "code",
   "execution_count": 51,
   "metadata": {},
   "outputs": [],
   "source": [
    "def intfacs_max(n,m): #returns factorizations of [0,n] which include an atom with max m\n",
    "    types = [P for P in partitions(n) if m in P]\n",
    "    facs = set()\n",
    "    for P in types:\n",
    "        facs = facs.union(facs_of_type(set(range(n+1)),P))\n",
    "    return facs\n",
    "        "
   ]
  },
  {
   "cell_type": "code",
   "execution_count": null,
   "metadata": {},
   "outputs": [],
   "source": []
  },
  {
   "cell_type": "code",
   "execution_count": 79,
   "metadata": {},
   "outputs": [],
   "source": []
  },
  {
   "cell_type": "code",
   "execution_count": 84,
   "metadata": {},
   "outputs": [
    {
     "name": "stdout",
     "output_type": "stream",
     "text": [
      "n = 5\n",
      "z: 8\n",
      "z1: 8\n",
      "zh: 2\n",
      "z1/z: 1.0\n",
      "\n",
      "n = 6\n",
      "z: 16\n",
      "z1: 15\n",
      "zh: 7\n",
      "z1/z: 0.9375\n",
      "\n",
      "n = 7\n",
      "z: 37\n",
      "z1: 35\n",
      "zh: 13\n",
      "z1/z: 0.9459459459459459\n",
      "\n",
      "n = 8\n",
      "z: 81\n",
      "z1: 75\n",
      "zh: 25\n",
      "z1/z: 0.9259259259259259\n",
      "\n",
      "n = 9\n",
      "z: 183\n",
      "z1: 168\n",
      "zh: 48\n",
      "z1/z: 0.9180327868852459\n",
      "\n",
      "n = 10\n",
      "z: 424\n",
      "z1: 375\n",
      "zh: 90\n",
      "z1/z: 0.8844339622641509\n",
      "\n",
      "n = 11\n",
      "z: 986\n",
      "z1: 855\n",
      "zh: 185\n",
      "z1/z: 0.8671399594320487\n",
      "\n",
      "n = 12\n",
      "z: 2288\n",
      "z1: 1946\n",
      "zh: 445\n",
      "z1/z: 0.8505244755244755\n",
      "\n",
      "n = 13\n",
      "z: 5316\n",
      "z1: 4427\n",
      "zh: 986\n",
      "z1/z: 0.8327689992475545\n",
      "\n",
      "n = 14\n",
      "z: 12374\n",
      "z1: 10107\n",
      "zh: 2218\n",
      "z1/z: 0.8167932762243414\n",
      "\n",
      "n = 15\n",
      "z: 28792\n",
      "z1: 23079\n",
      "zh: 4814\n",
      "z1/z: 0.8015768268963601\n",
      "\n",
      "n = 16\n",
      "z: 66784\n",
      "z1: 52594\n",
      "zh: 10193\n",
      "z1/z: 0.7875239578342118\n",
      "\n",
      "n = 17\n",
      "z: 154688\n",
      "z1: 119761\n",
      "zh: 22877\n",
      "z1/z: 0.774210022755482\n",
      "\n",
      "n = 18\n",
      "z: 357359\n",
      "z1: 272144\n",
      "zh: 52683\n",
      "z1/z: 0.7615423145912094\n",
      "\n",
      "n = 19\n",
      "z: 824002\n",
      "z1: 617696\n",
      "zh: 118492\n",
      "z1/z: 0.7496292484726979\n",
      "\n"
     ]
    }
   ],
   "source": [
    "for N in range(5,20):\n",
    "    n=N\n",
    "    z = len(facs_by_type(set(range(n+1))))\n",
    "    z1 = len(intfacs_max(n,1))\n",
    "    zh = len(intfacs_max(n,math.floor(n/2)))\n",
    "    \n",
    "    print('n =',n)\n",
    "    print('z:', z)\n",
    "    print('z1:', z1)\n",
    "    print('zh:', zh)\n",
    "    print('z1/z:',float(z1)/float(z))\n",
    "    print()"
   ]
  },
  {
   "cell_type": "code",
   "execution_count": 85,
   "metadata": {},
   "outputs": [
    {
     "ename": "KeyboardInterrupt",
     "evalue": "",
     "output_type": "error",
     "traceback": [
      "\u001b[0;31m---------------------------------------------------------------------------\u001b[0m",
      "\u001b[0;31mKeyboardInterrupt\u001b[0m                         Traceback (most recent call last)",
      "\u001b[0;32m<ipython-input-85-667c516ea6bb>\u001b[0m in \u001b[0;36m<module>\u001b[0;34m\u001b[0m\n\u001b[1;32m      2\u001b[0m     \u001b[0mn\u001b[0m\u001b[0;34m=\u001b[0m\u001b[0mN\u001b[0m\u001b[0;34m\u001b[0m\u001b[0;34m\u001b[0m\u001b[0m\n\u001b[1;32m      3\u001b[0m     \u001b[0mz\u001b[0m \u001b[0;34m=\u001b[0m \u001b[0mlen\u001b[0m\u001b[0;34m(\u001b[0m\u001b[0mfacs_by_type\u001b[0m\u001b[0;34m(\u001b[0m\u001b[0mset\u001b[0m\u001b[0;34m(\u001b[0m\u001b[0mrange\u001b[0m\u001b[0;34m(\u001b[0m\u001b[0mn\u001b[0m\u001b[0;34m+\u001b[0m\u001b[0;36m1\u001b[0m\u001b[0;34m)\u001b[0m\u001b[0;34m)\u001b[0m\u001b[0;34m)\u001b[0m\u001b[0;34m)\u001b[0m\u001b[0;34m\u001b[0m\u001b[0;34m\u001b[0m\u001b[0m\n\u001b[0;32m----> 4\u001b[0;31m     \u001b[0mz1\u001b[0m \u001b[0;34m=\u001b[0m \u001b[0mlen\u001b[0m\u001b[0;34m(\u001b[0m\u001b[0mintfacs_max\u001b[0m\u001b[0;34m(\u001b[0m\u001b[0mn\u001b[0m\u001b[0;34m,\u001b[0m\u001b[0;36m1\u001b[0m\u001b[0;34m)\u001b[0m\u001b[0;34m)\u001b[0m\u001b[0;34m\u001b[0m\u001b[0;34m\u001b[0m\u001b[0m\n\u001b[0m\u001b[1;32m      5\u001b[0m     \u001b[0mzh\u001b[0m \u001b[0;34m=\u001b[0m \u001b[0mlen\u001b[0m\u001b[0;34m(\u001b[0m\u001b[0mintfacs_max\u001b[0m\u001b[0;34m(\u001b[0m\u001b[0mn\u001b[0m\u001b[0;34m,\u001b[0m\u001b[0mmath\u001b[0m\u001b[0;34m.\u001b[0m\u001b[0mfloor\u001b[0m\u001b[0;34m(\u001b[0m\u001b[0mn\u001b[0m\u001b[0;34m/\u001b[0m\u001b[0;36m2\u001b[0m\u001b[0;34m)\u001b[0m\u001b[0;34m)\u001b[0m\u001b[0;34m)\u001b[0m\u001b[0;34m\u001b[0m\u001b[0;34m\u001b[0m\u001b[0m\n\u001b[1;32m      6\u001b[0m \u001b[0;34m\u001b[0m\u001b[0m\n",
      "\u001b[0;32m<ipython-input-51-313cfeedccdc>\u001b[0m in \u001b[0;36mintfacs_max\u001b[0;34m(n, m)\u001b[0m\n\u001b[1;32m      3\u001b[0m     \u001b[0mfacs\u001b[0m \u001b[0;34m=\u001b[0m \u001b[0mset\u001b[0m\u001b[0;34m(\u001b[0m\u001b[0;34m)\u001b[0m\u001b[0;34m\u001b[0m\u001b[0;34m\u001b[0m\u001b[0m\n\u001b[1;32m      4\u001b[0m     \u001b[0;32mfor\u001b[0m \u001b[0mP\u001b[0m \u001b[0;32min\u001b[0m \u001b[0mtypes\u001b[0m\u001b[0;34m:\u001b[0m\u001b[0;34m\u001b[0m\u001b[0;34m\u001b[0m\u001b[0m\n\u001b[0;32m----> 5\u001b[0;31m         \u001b[0mfacs\u001b[0m \u001b[0;34m=\u001b[0m \u001b[0mfacs\u001b[0m\u001b[0;34m.\u001b[0m\u001b[0munion\u001b[0m\u001b[0;34m(\u001b[0m\u001b[0mfacs_of_type\u001b[0m\u001b[0;34m(\u001b[0m\u001b[0mset\u001b[0m\u001b[0;34m(\u001b[0m\u001b[0mrange\u001b[0m\u001b[0;34m(\u001b[0m\u001b[0mn\u001b[0m\u001b[0;34m+\u001b[0m\u001b[0;36m1\u001b[0m\u001b[0;34m)\u001b[0m\u001b[0;34m)\u001b[0m\u001b[0;34m,\u001b[0m\u001b[0mP\u001b[0m\u001b[0;34m)\u001b[0m\u001b[0;34m)\u001b[0m\u001b[0;34m\u001b[0m\u001b[0;34m\u001b[0m\u001b[0m\n\u001b[0m\u001b[1;32m      6\u001b[0m     \u001b[0;32mreturn\u001b[0m \u001b[0mfacs\u001b[0m\u001b[0;34m\u001b[0m\u001b[0;34m\u001b[0m\u001b[0m\n\u001b[1;32m      7\u001b[0m \u001b[0;34m\u001b[0m\u001b[0m\n",
      "\u001b[0;32m<ipython-input-8-5084609f34c8>\u001b[0m in \u001b[0;36mfacs_of_type\u001b[0;34m(X, p)\u001b[0m\n\u001b[1;32m      8\u001b[0m     \u001b[0matom_tuples\u001b[0m \u001b[0;34m=\u001b[0m \u001b[0mit\u001b[0m\u001b[0;34m.\u001b[0m\u001b[0mproduct\u001b[0m\u001b[0;34m(\u001b[0m\u001b[0;34m*\u001b[0m\u001b[0matom_classes\u001b[0m\u001b[0;34m)\u001b[0m\u001b[0;34m\u001b[0m\u001b[0;34m\u001b[0m\u001b[0m\n\u001b[1;32m      9\u001b[0m     \u001b[0;32mfor\u001b[0m \u001b[0maa\u001b[0m \u001b[0;32min\u001b[0m \u001b[0matom_tuples\u001b[0m\u001b[0;34m:\u001b[0m\u001b[0;34m\u001b[0m\u001b[0;34m\u001b[0m\u001b[0m\n\u001b[0;32m---> 10\u001b[0;31m         \u001b[0;32mif\u001b[0m \u001b[0mmsum\u001b[0m\u001b[0;34m(\u001b[0m\u001b[0;34m*\u001b[0m\u001b[0maa\u001b[0m\u001b[0;34m)\u001b[0m \u001b[0;34m==\u001b[0m \u001b[0mX\u001b[0m\u001b[0;34m:\u001b[0m\u001b[0;34m\u001b[0m\u001b[0;34m\u001b[0m\u001b[0m\n\u001b[0m\u001b[1;32m     11\u001b[0m             \u001b[0mF\u001b[0m\u001b[0;34m.\u001b[0m\u001b[0madd\u001b[0m\u001b[0;34m(\u001b[0m\u001b[0maa\u001b[0m\u001b[0;34m)\u001b[0m\u001b[0;34m\u001b[0m\u001b[0;34m\u001b[0m\u001b[0m\n\u001b[1;32m     12\u001b[0m     \u001b[0;32mreturn\u001b[0m \u001b[0mset\u001b[0m\u001b[0;34m(\u001b[0m\u001b[0mtuple\u001b[0m\u001b[0;34m(\u001b[0m\u001b[0msorted\u001b[0m\u001b[0;34m(\u001b[0m\u001b[0mf\u001b[0m\u001b[0;34m,\u001b[0m\u001b[0mreverse\u001b[0m\u001b[0;34m=\u001b[0m\u001b[0;32mTrue\u001b[0m\u001b[0;34m)\u001b[0m\u001b[0;34m)\u001b[0m \u001b[0;32mfor\u001b[0m \u001b[0mf\u001b[0m \u001b[0;32min\u001b[0m \u001b[0mF\u001b[0m\u001b[0;34m)\u001b[0m\u001b[0;34m\u001b[0m\u001b[0;34m\u001b[0m\u001b[0m\n",
      "\u001b[0;32m<ipython-input-3-92e97bc59d1e>\u001b[0m in \u001b[0;36mmsum\u001b[0;34m(*listofsets)\u001b[0m\n\u001b[1;32m     10\u001b[0m     \u001b[0;32melse\u001b[0m\u001b[0;34m:\u001b[0m\u001b[0;34m\u001b[0m\u001b[0;34m\u001b[0m\u001b[0m\n\u001b[1;32m     11\u001b[0m         \u001b[0;32mfor\u001b[0m \u001b[0mi\u001b[0m \u001b[0;32min\u001b[0m \u001b[0mrange\u001b[0m\u001b[0;34m(\u001b[0m\u001b[0;36m1\u001b[0m\u001b[0;34m,\u001b[0m\u001b[0mlen\u001b[0m\u001b[0;34m(\u001b[0m\u001b[0mlistofsets\u001b[0m\u001b[0;34m)\u001b[0m\u001b[0;34m)\u001b[0m\u001b[0;34m:\u001b[0m\u001b[0;34m\u001b[0m\u001b[0;34m\u001b[0m\u001b[0m\n\u001b[0;32m---> 12\u001b[0;31m             \u001b[0mS\u001b[0m \u001b[0;34m=\u001b[0m \u001b[0msetsum\u001b[0m\u001b[0;34m(\u001b[0m\u001b[0mS\u001b[0m\u001b[0;34m,\u001b[0m\u001b[0mlistofsets\u001b[0m\u001b[0;34m[\u001b[0m\u001b[0mi\u001b[0m\u001b[0;34m]\u001b[0m\u001b[0;34m)\u001b[0m\u001b[0;34m\u001b[0m\u001b[0;34m\u001b[0m\u001b[0m\n\u001b[0m\u001b[1;32m     13\u001b[0m         \u001b[0;32mreturn\u001b[0m \u001b[0mS\u001b[0m\u001b[0;34m\u001b[0m\u001b[0;34m\u001b[0m\u001b[0m\n\u001b[1;32m     14\u001b[0m \u001b[0;34m\u001b[0m\u001b[0m\n",
      "\u001b[0;32m<ipython-input-3-92e97bc59d1e>\u001b[0m in \u001b[0;36msetsum\u001b[0;34m(X, Y)\u001b[0m\n\u001b[1;32m      2\u001b[0m \u001b[0;34m\u001b[0m\u001b[0m\n\u001b[1;32m      3\u001b[0m \u001b[0;32mdef\u001b[0m \u001b[0msetsum\u001b[0m\u001b[0;34m(\u001b[0m\u001b[0mX\u001b[0m\u001b[0;34m,\u001b[0m\u001b[0mY\u001b[0m\u001b[0;34m)\u001b[0m\u001b[0;34m:\u001b[0m \u001b[0;31m#returns X+Y={x+y: (x,y) in (X,Y)}\u001b[0m\u001b[0;34m\u001b[0m\u001b[0;34m\u001b[0m\u001b[0m\n\u001b[0;32m----> 4\u001b[0;31m     \u001b[0;32mreturn\u001b[0m \u001b[0mset\u001b[0m\u001b[0;34m(\u001b[0m\u001b[0mx\u001b[0m\u001b[0;34m+\u001b[0m\u001b[0my\u001b[0m \u001b[0;32mfor\u001b[0m \u001b[0mx\u001b[0m \u001b[0;32min\u001b[0m \u001b[0mX\u001b[0m \u001b[0;32mfor\u001b[0m \u001b[0my\u001b[0m \u001b[0;32min\u001b[0m \u001b[0mY\u001b[0m\u001b[0;34m)\u001b[0m\u001b[0;34m\u001b[0m\u001b[0;34m\u001b[0m\u001b[0m\n\u001b[0m\u001b[1;32m      5\u001b[0m \u001b[0;34m\u001b[0m\u001b[0m\n\u001b[1;32m      6\u001b[0m \u001b[0;32mdef\u001b[0m \u001b[0mmsum\u001b[0m\u001b[0;34m(\u001b[0m\u001b[0;34m*\u001b[0m\u001b[0mlistofsets\u001b[0m\u001b[0;34m)\u001b[0m\u001b[0;34m:\u001b[0m \u001b[0;31m#n-ary version of setsum\u001b[0m\u001b[0;34m\u001b[0m\u001b[0;34m\u001b[0m\u001b[0m\n",
      "\u001b[0;32m<ipython-input-3-92e97bc59d1e>\u001b[0m in \u001b[0;36m<genexpr>\u001b[0;34m(.0)\u001b[0m\n\u001b[1;32m      2\u001b[0m \u001b[0;34m\u001b[0m\u001b[0m\n\u001b[1;32m      3\u001b[0m \u001b[0;32mdef\u001b[0m \u001b[0msetsum\u001b[0m\u001b[0;34m(\u001b[0m\u001b[0mX\u001b[0m\u001b[0;34m,\u001b[0m\u001b[0mY\u001b[0m\u001b[0;34m)\u001b[0m\u001b[0;34m:\u001b[0m \u001b[0;31m#returns X+Y={x+y: (x,y) in (X,Y)}\u001b[0m\u001b[0;34m\u001b[0m\u001b[0;34m\u001b[0m\u001b[0m\n\u001b[0;32m----> 4\u001b[0;31m     \u001b[0;32mreturn\u001b[0m \u001b[0mset\u001b[0m\u001b[0;34m(\u001b[0m\u001b[0mx\u001b[0m\u001b[0;34m+\u001b[0m\u001b[0my\u001b[0m \u001b[0;32mfor\u001b[0m \u001b[0mx\u001b[0m \u001b[0;32min\u001b[0m \u001b[0mX\u001b[0m \u001b[0;32mfor\u001b[0m \u001b[0my\u001b[0m \u001b[0;32min\u001b[0m \u001b[0mY\u001b[0m\u001b[0;34m)\u001b[0m\u001b[0;34m\u001b[0m\u001b[0;34m\u001b[0m\u001b[0m\n\u001b[0m\u001b[1;32m      5\u001b[0m \u001b[0;34m\u001b[0m\u001b[0m\n\u001b[1;32m      6\u001b[0m \u001b[0;32mdef\u001b[0m \u001b[0mmsum\u001b[0m\u001b[0;34m(\u001b[0m\u001b[0;34m*\u001b[0m\u001b[0mlistofsets\u001b[0m\u001b[0;34m)\u001b[0m\u001b[0;34m:\u001b[0m \u001b[0;31m#n-ary version of setsum\u001b[0m\u001b[0;34m\u001b[0m\u001b[0;34m\u001b[0m\u001b[0m\n",
      "\u001b[0;31mKeyboardInterrupt\u001b[0m: "
     ]
    }
   ],
   "source": [
    "for N in range(20,26):\n",
    "    n=N\n",
    "    z = len(facs_by_type(set(range(n+1))))\n",
    "    z1 = len(intfacs_max(n,1))\n",
    "    zh = len(intfacs_max(n,math.floor(n/2)))\n",
    "    \n",
    "    print('n =',n)\n",
    "    print('z:', z)\n",
    "    print('z1:', z1)\n",
    "    print('zh:', zh)\n",
    "    print('z1/z:',float(z1)/float(z))\n",
    "    print()"
   ]
  },
  {
   "cell_type": "code",
   "execution_count": 87,
   "metadata": {},
   "outputs": [
    {
     "name": "stdout",
     "output_type": "stream",
     "text": [
      "n = 2 : |Z| = 1\n",
      "n = 3 : |Z| = 2\n",
      "n = 4 : |Z| = 4\n",
      "n = 5 : |Z| = 8\n",
      "n = 6 : |Z| = 16\n",
      "n = 7 : |Z| = 37\n",
      "n = 8 : |Z| = 81\n",
      "n = 9 : |Z| = 183\n",
      "n = 10 : |Z| = 424\n",
      "n = 11 : |Z| = 986\n",
      "n = 12 : |Z| = 2288\n",
      "n = 13 : |Z| = 5316\n",
      "n = 14 : |Z| = 12374\n",
      "n = 15 : |Z| = 28792\n",
      "n = 16 : |Z| = 66784\n",
      "n = 17 : |Z| = 154688\n"
     ]
    }
   ],
   "source": [
    "for n in range(2,18):\n",
    "    print('n =',n,':','|Z| =',len(facs_by_type(set(range(n+1)))))"
   ]
  },
  {
   "cell_type": "code",
   "execution_count": null,
   "metadata": {},
   "outputs": [],
   "source": []
  }
 ],
 "metadata": {
  "kernelspec": {
   "display_name": "Python 3",
   "language": "python",
   "name": "python3"
  },
  "language_info": {
   "codemirror_mode": {
    "name": "ipython",
    "version": 3
   },
   "file_extension": ".py",
   "mimetype": "text/x-python",
   "name": "python",
   "nbconvert_exporter": "python",
   "pygments_lexer": "ipython3",
   "version": "3.7.3"
  }
 },
 "nbformat": 4,
 "nbformat_minor": 2
}
